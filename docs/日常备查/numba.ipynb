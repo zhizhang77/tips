{
 "cells": [
  {
   "cell_type": "markdown",
   "metadata": {},
   "source": [
    "# numba的使用"
   ]
  },
  {
   "cell_type": "markdown",
   "metadata": {},
   "source": [
    "## 安装\n",
    "\n",
    "    pip install numba tbb"
   ]
  },
  {
   "cell_type": "markdown",
   "metadata": {},
   "source": [
    "## jit与njit\n",
    "\n",
    "主要用于循环，很多场景下一个@njit（等价于@jit(nopython=True)）装饰符就可以有很好的效果"
   ]
  },
  {
   "cell_type": "code",
   "execution_count": null,
   "metadata": {},
   "outputs": [],
   "source": [
    "import numpy\n",
    "from numba import jit, njit\n",
    "from numba.typed import List\n",
    "\n",
    "# @jit(nopython=True)\n",
    "@njit\n",
    "def do_trig(x, y):\n",
    "    z = numpy.empty_like(x)\n",
    "    for i in range(x.shape[0]):\n",
    "        for j in range(x.shape[1]):\n",
    "            z[i, j] = numpy.sin(x[i, j]**2) + numpy.cos(y[i, j])\n",
    "    return z\n",
    "\n",
    "x = numpy.random.random((1000, 1000))\n",
    "y = numpy.random.random((1000, 1000))\n",
    "\n",
    "%timeit do_trig(x, y)"
   ]
  },
  {
   "cell_type": "markdown",
   "metadata": {},
   "source": [
    "可以在jit中指定输入输出参数类型，支持的类型见https://numba.readthedocs.io/en/stable/reference/types.html#basic-types 。注意jit会“预编译”你的代码，这意味着它会在某种程度上固定住各个变量的数据类型；所以使用jit加速时，如果想要使用的是float数组的话，就不能用\\[0\\]\\*len(x)定义、而应该用：\\[0.\\]\\*len(x)\n",
    "\n",
    "```python\n",
    "    @numba.jit([\n",
    "        \"void(int64, int64, int64, int64, float32[:,:,:,:],\"\n",
    "        \"int64, int64, int64, float32[:,:,:,:], float32[:,:,:,:])\"\n",
    "    ], nopython=True)\n",
    "    def conv_bp(n, n_filters, out_h, out_w, dx_padded,\n",
    "            filter_height, filter_width, sd, inner_weight, delta):\n",
    "```"
   ]
  },
  {
   "cell_type": "code",
   "execution_count": null,
   "metadata": {},
   "outputs": [],
   "source": [
    "from numba import njit, int32\n",
    " \n",
    "@njit(int32(int32, int32))\n",
    "def f_t(x, y):\n",
    "    return x + y"
   ]
  },
  {
   "cell_type": "markdown",
   "metadata": {},
   "source": [
    "通过enable并行可以实现进一步加速。还有一些其他选项，如fastmath=True牺牲少量精度提升速度，多线程下通过@jit(nogil=True)绕开GIL锁等，需根据实际情况和测试结果选用"
   ]
  },
  {
   "cell_type": "code",
   "execution_count": null,
   "metadata": {},
   "outputs": [],
   "source": [
    "import numba\n",
    "from numba import prange # parallel=True时，循环内range要改成prange使得numba能够识别\n",
    "\n",
    "numba.config.NUMBA_DEFAULT_NUM_THREADS=4 # 并行度不是越高越好，通常不超过CPU核数\n",
    "\n",
    "@njit(parallel=True,fastmath=True) # 进一步优化并行\n",
    "def do_trig_p(x, y):\n",
    "    z = numpy.empty_like(x)\n",
    "    for i in prange(x.shape[0]):\n",
    "        for j in prange(x.shape[1]):\n",
    "            z[i, j] = numpy.sin(x[i, j]**2) + numpy.cos(y[i, j])\n",
    "    return z\n",
    "\n",
    "%timeit do_trig_p(x, y)"
   ]
  },
  {
   "cell_type": "markdown",
   "metadata": {},
   "source": [
    "## vectorize\n",
    "\n",
    "@vectorize可以加速矩阵运算，类似numpy的ufunc广播，并行目标可以是cpu,parallel或者cuda，其选择建议见下：\n",
    "\n",
    ">>> A general guideline is to choose different targets for different data sizes and algorithms. The “cpu” target works well for small data sizes (approx. less than 1KB) and low compute intensity algorithms. It has the least amount of overhead. The “parallel” target works well for medium data sizes (approx. less than 1MB). Threading adds a small delay. The “cuda” target works well for big data sizes (approx. greater than 1MB) and high compute intensity algorithms. Transfering memory to and from the GPU adds significant overhead"
   ]
  },
  {
   "cell_type": "code",
   "execution_count": null,
   "metadata": {},
   "outputs": [],
   "source": [
    "import math\n",
    "from numba import vectorize\n",
    "\n",
    "# @vectorize\n",
    "@vectorize('float64(float64, float64)', target='cuda') #指定类型可以进一步加速，某些类型可能需要从numba里import\n",
    "def do_trig_vec_par(x, y):\n",
    "    z = math.sin(x**2) + math.cos(y)\n",
    "    return z\n",
    "\n",
    "%timeit do_trig_vec_par(x, y)"
   ]
  },
  {
   "cell_type": "markdown",
   "metadata": {},
   "source": [
    "## 优化tips\n",
    "\n",
    "需要特别注意的是，使用jit和使用纯numpy进行编程的很大一点不同就是，不要畏惧用for；事实上一般来说，代码“长得越像 C”、速度就会越快"
   ]
  },
  {
   "cell_type": "code",
   "execution_count": null,
   "metadata": {},
   "outputs": [],
   "source": [
    "import numba as nb\n",
    "import numpy as np\n",
    "\n",
    "# 普通的 MaxPool\n",
    "def max_pool_kernel(x, rs, *args):\n",
    "    n, n_channels, pool_height, pool_width, out_h, out_w = args\n",
    "    for i in range(n):\n",
    "        for j in range(n_channels):\n",
    "            for p in range(out_h):\n",
    "                for q in range(out_w):\n",
    "                    window = x[i, j, p:p+pool_height, q:q+pool_width]\n",
    "                    rs[i, j, p, q] += np.max(window)\n",
    "\n",
    "# 简单地加了个 jit 后的 MaxPool\n",
    "@nb.jit(nopython=True)\n",
    "def jit_max_pool_kernel(x, rs, *args):\n",
    "    n, n_channels, pool_height, pool_width, out_h, out_w = args\n",
    "    for i in range(n):\n",
    "        for j in range(n_channels):\n",
    "            for p in range(out_h):\n",
    "                for q in range(out_w):\n",
    "                    window = x[i, j, p:p+pool_height, q:q+pool_width]\n",
    "                    rs[i, j, p, q] += np.max(window)\n",
    "\n",
    "# 不惧用 for 的、“更像 C”的 MaxPool\n",
    "@nb.jit(nopython=True)\n",
    "def jit_max_pool_kernel2(x, rs, *args):\n",
    "    n, n_channels, pool_height, pool_width, out_h, out_w = args\n",
    "    for i in range(n):\n",
    "        for j in range(n_channels):\n",
    "            for p in range(out_h):\n",
    "                for q in range(out_w):\n",
    "                    _max = x[i, j, p, q]\n",
    "                    for r in range(pool_height):\n",
    "                        for s in range(pool_width):\n",
    "                            _tmp = x[i, j, p+r, q+s]\n",
    "                            if _tmp > _max:\n",
    "                                _max = _tmp\n",
    "                    rs[i, j, p, q] += _max\n",
    "\n",
    "# MaxPool 的封装\n",
    "def max_pool(x, kernel, args):\n",
    "    n, n_channels = args[:2]\n",
    "    out_h, out_w = args[-2:]\n",
    "    rs = np.zeros([n, n_filters, out_h, out_w], dtype=np.float32)\n",
    "    kernel(x, rs, *args)\n",
    "    return rs\n",
    "\n",
    "# 64 个 3 x 28 x 28 的图像输入（模拟 mnist）\n",
    "x = np.random.randn(64, 3, 28, 28).astype(np.float32)\n",
    "# 16 个 5 x 5 的 kernel\n",
    "w = np.random.randn(16, x.shape[1], 5, 5).astype(np.float32)\n",
    "\n",
    "n, n_channels, height, width = x.shape\n",
    "n_filters, _, filter_height, filter_width = w.shape\n",
    "out_h = height - filter_height + 1\n",
    "out_w = width - filter_width + 1\n",
    "\n",
    "pool_height, pool_width = 2, 2\n",
    "n, n_channels, height, width = x.shape\n",
    "out_h = height - pool_height + 1\n",
    "out_w = width - pool_width + 1\n",
    "args = (n, n_channels, pool_height, pool_width, out_h, out_w)\n",
    "\n",
    "assert np.allclose(max_pool(x, max_pool_kernel, args), max_pool(x, jit_max_pool_kernel, args))\n",
    "assert np.allclose(max_pool(x, jit_max_pool_kernel, args), max_pool(x, jit_max_pool_kernel2, args))\n",
    "%timeit max_pool(x, max_pool_kernel, args)\n",
    "%timeit max_pool(x, jit_max_pool_kernel, args)\n",
    "%timeit max_pool(x, jit_max_pool_kernel2, args)"
   ]
  },
  {
   "cell_type": "markdown",
   "metadata": {},
   "source": [
    "## numba和numpy的结构体\n",
    "\n",
    "numba对于numpy的支持是最完善的，对于python中的list、dict、tuple等数据类型要不就是不支持优化要不就是支持优化但是使用存在一定的局限性，所以比较建议尽量把输入用numpy的方式表示起来。\n",
    "\n",
    "有时候为了方便，我们希望numba所修饰的函数能够接受结构体类型的参数该怎么办，因为python中没有显式的struct函数，只有class函数可以用来充当struct来用。"
   ]
  },
  {
   "cell_type": "code",
   "execution_count": null,
   "metadata": {},
   "outputs": [],
   "source": [
    "import numpy\n",
    "from numba import njit\n",
    "\n",
    "class Point():\n",
    "    \"\"\"    \n",
    "    Arguments:\n",
    "        domain: the domain of random generated coordinates x,y,z, \n",
    "                default=1.0\n",
    "    \n",
    "    Attributes:\n",
    "        x, y, z: coordinates of the point\n",
    "    \"\"\"\n",
    "    def __init__(self, domain=1.0):\n",
    "        self.x = domain * numpy.random.random()\n",
    "        self.y = domain * numpy.random.random()\n",
    "        self.z = domain * numpy.random.random()\n",
    "            \n",
    "    def distance(self, other):\n",
    "        return ((self.x - other.x)**2 + \n",
    "                (self.y - other.y)**2 + \n",
    "                (self.z - other.z)**2)**.5\n",
    "\n",
    "class Particle(Point):\n",
    "    \"\"\"    \n",
    "    Attributes:\n",
    "        m: mass of the particle\n",
    "        phi: the potential of the particle\n",
    "    \"\"\"\n",
    "    \n",
    "    def __init__(self, domain=1.0, m=1.0):\n",
    "        Point.__init__(self, domain) ##父类的初始化否则的话一般是 Particle.__inti__()\n",
    "        self.m = m\n",
    "        self.phi = 0.\n"
   ]
  },
  {
   "cell_type": "markdown",
   "metadata": {},
   "source": [
    "这里我们就定义了一个叫Particle的对象，直接调用他的属性就会产生类似结构体的功能了。接下来我们产生1000个这样的结构体表示1000个数据集，然后放入普通函数中计算"
   ]
  },
  {
   "cell_type": "code",
   "execution_count": null,
   "metadata": {},
   "outputs": [],
   "source": [
    "n = 1000\n",
    "particles = [Particle(m = 1 / n) for i in range(n)]\n",
    "def direct_sum(particles):\n",
    "    \"\"\"\n",
    "    Calculate the potential at each particle\n",
    "    using direct summation method.\n",
    "\n",
    "    Arguments:\n",
    "        particles: the list of particles\n",
    "\n",
    "    \"\"\"\n",
    "    for i, target in enumerate(particles):\n",
    "        for source in (particles[:i] + particles[i+1:]):\n",
    "            r = target.distance(source)\n",
    "            target.phi += source.m / r\n",
    "\n",
    "orig_time = %timeit -o direct_sum(particles)"
   ]
  },
  {
   "cell_type": "markdown",
   "metadata": {},
   "source": [
    "该函数如果用@jit优化会报错，因为numba无法识别python中的类class。那么如何解决这个问题？\n",
    "\n",
    "其实，numpy有一个很有意思的功能可以用来实现类似结构体的功能，而且调用的效率要比通过class来定义的结构体高太多。\n",
    "\n",
    "下面定义了一个numpy的数据类型“particle_dtype”，类似于c中的struct，首先是组员的名字分为：'x','y','z','m','phi'，然后通过formats定义每一个组员的数据类型。"
   ]
  },
  {
   "cell_type": "code",
   "execution_count": null,
   "metadata": {},
   "outputs": [],
   "source": [
    "particle_dtype = numpy.dtype({'names':['x','y','z','m','phi'], \n",
    "                             'formats':[numpy.double, \n",
    "                                        numpy.double, \n",
    "                                        numpy.double, \n",
    "                                        numpy.double, \n",
    "                                        numpy.double]})"
   ]
  },
  {
   "cell_type": "markdown",
   "metadata": {},
   "source": [
    "接下来我们把上述的结构体定义实例化"
   ]
  },
  {
   "cell_type": "code",
   "execution_count": null,
   "metadata": {},
   "outputs": [],
   "source": [
    "def create_n_random_particles(n, m, domain=1):\n",
    "    '''\n",
    "    Creates `n` particles with mass `m` with random coordinates\n",
    "    between 0 and `domain`\n",
    "    '''\n",
    "    parts = numpy.zeros((n), dtype=particle_dtype)\n",
    "    \n",
    "    parts['x'] = numpy.random.random(size=n) * domain\n",
    "    parts['y'] = numpy.random.random(size=n) * domain\n",
    "    parts['z'] = numpy.random.random(size=n) * domain\n",
    "    parts['m'] = m\n",
    "    parts['phi'] = 0.0\n",
    "\n",
    "    return parts\n",
    "parts = create_n_random_particles(1000, .001, 1)\n",
    "print(parts[:5])"
   ]
  },
  {
   "cell_type": "markdown",
   "metadata": {},
   "source": [
    "现在可以用jit优化了"
   ]
  },
  {
   "cell_type": "code",
   "execution_count": null,
   "metadata": {},
   "outputs": [],
   "source": [
    "@njit\n",
    "def distance(self, other):\n",
    "    return ((self.x - other.x)**2 + \n",
    "            (self.y - other.y)**2 + \n",
    "            (self.z - other.z)**2)**.5\n",
    "\n",
    "\n",
    "@njit\n",
    "def direct_sum_jit(particles):\n",
    "    for i, target in enumerate(particles):\n",
    "        for j in range(particles.shape[0]):\n",
    "            if i == j:\n",
    "                continue\n",
    "            source = particles[j]\n",
    "            r = distance(target, source)\n",
    "            target['phi'] += source['m'] / r\n",
    "%timeit direct_sum_jit(parts)"
   ]
  },
  {
   "cell_type": "code",
   "execution_count": null,
   "metadata": {},
   "outputs": [],
   "source": []
  }
 ],
 "metadata": {
  "kernelspec": {
   "display_name": "Python 3.7.9 64-bit",
   "language": "python",
   "name": "python37964bit75eff9dac22a4ef7bf321e88d095640f"
  },
  "language_info": {
   "codemirror_mode": {
    "name": "ipython",
    "version": 3
   },
   "file_extension": ".py",
   "mimetype": "text/x-python",
   "name": "python",
   "nbconvert_exporter": "python",
   "pygments_lexer": "ipython3",
   "version": "3.7.9"
  },
  "toc": {
   "base_numbering": 1,
   "nav_menu": {},
   "number_sections": true,
   "sideBar": true,
   "skip_h1_title": false,
   "title_cell": "Table of Contents",
   "title_sidebar": "Contents",
   "toc_cell": false,
   "toc_position": {},
   "toc_section_display": true,
   "toc_window_display": true
  }
 },
 "nbformat": 4,
 "nbformat_minor": 2
}
